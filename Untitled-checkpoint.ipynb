{
 "cells": [
  {
   "cell_type": "code",
   "execution_count": 8,
   "metadata": {},
   "outputs": [],
   "source": [
    "from cv2 import *\n",
    "from time import sleep\n",
    "cap = VideoCapture(0)\n",
    "sleep(6)    \n",
    "s, img = cap.read()\n",
    "imwrite(\"Photo.jpg\", img)\n",
    "if s:\n",
    "    imshow(\"view\", img)\n",
    "    waitKey(0)\n",
    "    destroyWindow(\"view\")\n",
    "photo = imread(\"Photo.jpg\")\n",
    "grayImage = cvtColor(photo,COLOR_BGR2GRAY)\n",
    "grayImage = cvtColor(grayImage,COLOR_GRAY2BGR)\n",
    "line(grayImage, (0, 0), (grayImage.shape[1],grayImage.shape[0]), (0, 255, 0), 5)\n",
    "rectangle(grayImage, (66, 66), (grayImage.shape[1]-100,grayImage.shape[0]-50), (0, 0, 255), 5)\n",
    "imshow(\"view\", grayImage)\n",
    "waitKey(0)\n",
    "destroyWindow(\"view\")"
   ]
  }
 ],
 "metadata": {
  "kernelspec": {
   "display_name": "Python 3",
   "language": "python",
   "name": "python3"
  },
  "language_info": {
   "codemirror_mode": {
    "name": "ipython",
    "version": 3
   },
   "file_extension": ".py",
   "mimetype": "text/x-python",
   "name": "python",
   "nbconvert_exporter": "python",
   "pygments_lexer": "ipython3",
   "version": "3.6.4"
  }
 },
 "nbformat": 4,
 "nbformat_minor": 2
}
